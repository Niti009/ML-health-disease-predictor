{
 "cells": [
  {
   "cell_type": "markdown",
   "id": "02b3818a-5ea6-4fba-b250-3ac2eb06a64e",
   "metadata": {},
   "source": [
    "# Objective: Predict whether a person has diabetes based on medical features."
   ]
  },
  {
   "cell_type": "code",
   "execution_count": 1,
   "id": "887644b2-b88b-42fe-9dde-23051a03b8e1",
   "metadata": {},
   "outputs": [],
   "source": [
    "import pandas as pd\n",
    "import numpy as np"
   ]
  },
  {
   "cell_type": "markdown",
   "id": "d9cb737a-c829-4d54-9f3e-e5ee067a9d98",
   "metadata": {},
   "source": [
    "# STEP 1: Data Preprocessing"
   ]
  },
  {
   "cell_type": "code",
   "execution_count": 2,
   "id": "57960d46-6fa1-4f61-b88d-6dc3c729e341",
   "metadata": {},
   "outputs": [
    {
     "data": {
      "text/html": [
       "<div>\n",
       "<style scoped>\n",
       "    .dataframe tbody tr th:only-of-type {\n",
       "        vertical-align: middle;\n",
       "    }\n",
       "\n",
       "    .dataframe tbody tr th {\n",
       "        vertical-align: top;\n",
       "    }\n",
       "\n",
       "    .dataframe thead th {\n",
       "        text-align: right;\n",
       "    }\n",
       "</style>\n",
       "<table border=\"1\" class=\"dataframe\">\n",
       "  <thead>\n",
       "    <tr style=\"text-align: right;\">\n",
       "      <th></th>\n",
       "      <th>Pregnancies</th>\n",
       "      <th>Glucose</th>\n",
       "      <th>BloodPressure</th>\n",
       "      <th>SkinThickness</th>\n",
       "      <th>Insulin</th>\n",
       "      <th>BMI</th>\n",
       "      <th>DiabetesPedigreeFunction</th>\n",
       "      <th>Age</th>\n",
       "      <th>Outcome</th>\n",
       "    </tr>\n",
       "  </thead>\n",
       "  <tbody>\n",
       "    <tr>\n",
       "      <th>0</th>\n",
       "      <td>6</td>\n",
       "      <td>148</td>\n",
       "      <td>72</td>\n",
       "      <td>35</td>\n",
       "      <td>0</td>\n",
       "      <td>33.6</td>\n",
       "      <td>0.627</td>\n",
       "      <td>50</td>\n",
       "      <td>1</td>\n",
       "    </tr>\n",
       "    <tr>\n",
       "      <th>1</th>\n",
       "      <td>1</td>\n",
       "      <td>85</td>\n",
       "      <td>66</td>\n",
       "      <td>29</td>\n",
       "      <td>0</td>\n",
       "      <td>26.6</td>\n",
       "      <td>0.351</td>\n",
       "      <td>31</td>\n",
       "      <td>0</td>\n",
       "    </tr>\n",
       "    <tr>\n",
       "      <th>2</th>\n",
       "      <td>8</td>\n",
       "      <td>183</td>\n",
       "      <td>64</td>\n",
       "      <td>0</td>\n",
       "      <td>0</td>\n",
       "      <td>23.3</td>\n",
       "      <td>0.672</td>\n",
       "      <td>32</td>\n",
       "      <td>1</td>\n",
       "    </tr>\n",
       "    <tr>\n",
       "      <th>3</th>\n",
       "      <td>1</td>\n",
       "      <td>89</td>\n",
       "      <td>66</td>\n",
       "      <td>23</td>\n",
       "      <td>94</td>\n",
       "      <td>28.1</td>\n",
       "      <td>0.167</td>\n",
       "      <td>21</td>\n",
       "      <td>0</td>\n",
       "    </tr>\n",
       "    <tr>\n",
       "      <th>4</th>\n",
       "      <td>0</td>\n",
       "      <td>137</td>\n",
       "      <td>40</td>\n",
       "      <td>35</td>\n",
       "      <td>168</td>\n",
       "      <td>43.1</td>\n",
       "      <td>2.288</td>\n",
       "      <td>33</td>\n",
       "      <td>1</td>\n",
       "    </tr>\n",
       "  </tbody>\n",
       "</table>\n",
       "</div>"
      ],
      "text/plain": [
       "   Pregnancies  Glucose  BloodPressure  SkinThickness  Insulin   BMI  \\\n",
       "0            6      148             72             35        0  33.6   \n",
       "1            1       85             66             29        0  26.6   \n",
       "2            8      183             64              0        0  23.3   \n",
       "3            1       89             66             23       94  28.1   \n",
       "4            0      137             40             35      168  43.1   \n",
       "\n",
       "   DiabetesPedigreeFunction  Age  Outcome  \n",
       "0                     0.627   50        1  \n",
       "1                     0.351   31        0  \n",
       "2                     0.672   32        1  \n",
       "3                     0.167   21        0  \n",
       "4                     2.288   33        1  "
      ]
     },
     "execution_count": 2,
     "metadata": {},
     "output_type": "execute_result"
    }
   ],
   "source": [
    "df = pd.read_csv('diabetes.csv')\n",
    "df.head()"
   ]
  },
  {
   "cell_type": "code",
   "execution_count": 3,
   "id": "83044dfa-8b12-4b4e-89a2-be31e141c48d",
   "metadata": {},
   "outputs": [
    {
     "name": "stdout",
     "output_type": "stream",
     "text": [
      "<class 'pandas.core.frame.DataFrame'>\n",
      "RangeIndex: 768 entries, 0 to 767\n",
      "Data columns (total 9 columns):\n",
      " #   Column                    Non-Null Count  Dtype  \n",
      "---  ------                    --------------  -----  \n",
      " 0   Pregnancies               768 non-null    int64  \n",
      " 1   Glucose                   768 non-null    int64  \n",
      " 2   BloodPressure             768 non-null    int64  \n",
      " 3   SkinThickness             768 non-null    int64  \n",
      " 4   Insulin                   768 non-null    int64  \n",
      " 5   BMI                       768 non-null    float64\n",
      " 6   DiabetesPedigreeFunction  768 non-null    float64\n",
      " 7   Age                       768 non-null    int64  \n",
      " 8   Outcome                   768 non-null    int64  \n",
      "dtypes: float64(2), int64(7)\n",
      "memory usage: 54.1 KB\n"
     ]
    }
   ],
   "source": [
    "df.info()"
   ]
  },
  {
   "cell_type": "code",
   "execution_count": 4,
   "id": "f0ca8eb5-f72b-4146-a550-72dd228630be",
   "metadata": {},
   "outputs": [
    {
     "data": {
      "text/plain": [
       "(768, 9)"
      ]
     },
     "execution_count": 4,
     "metadata": {},
     "output_type": "execute_result"
    }
   ],
   "source": [
    "df.shape"
   ]
  },
  {
   "cell_type": "code",
   "execution_count": 5,
   "id": "ed428068-35ff-42c5-8f35-41e8902f4b97",
   "metadata": {},
   "outputs": [
    {
     "data": {
      "text/plain": [
       "Pregnancies                 0\n",
       "Glucose                     0\n",
       "BloodPressure               0\n",
       "SkinThickness               0\n",
       "Insulin                     0\n",
       "BMI                         0\n",
       "DiabetesPedigreeFunction    0\n",
       "Age                         0\n",
       "Outcome                     0\n",
       "dtype: int64"
      ]
     },
     "execution_count": 5,
     "metadata": {},
     "output_type": "execute_result"
    }
   ],
   "source": [
    "df.isnull().sum()"
   ]
  },
  {
   "cell_type": "code",
   "execution_count": 6,
   "id": "129bccb5-e877-4a6b-9268-fc565ade6a9c",
   "metadata": {},
   "outputs": [
    {
     "data": {
      "text/html": [
       "<div>\n",
       "<style scoped>\n",
       "    .dataframe tbody tr th:only-of-type {\n",
       "        vertical-align: middle;\n",
       "    }\n",
       "\n",
       "    .dataframe tbody tr th {\n",
       "        vertical-align: top;\n",
       "    }\n",
       "\n",
       "    .dataframe thead th {\n",
       "        text-align: right;\n",
       "    }\n",
       "</style>\n",
       "<table border=\"1\" class=\"dataframe\">\n",
       "  <thead>\n",
       "    <tr style=\"text-align: right;\">\n",
       "      <th></th>\n",
       "      <th>Pregnancies</th>\n",
       "      <th>Glucose</th>\n",
       "      <th>BloodPressure</th>\n",
       "      <th>SkinThickness</th>\n",
       "      <th>Insulin</th>\n",
       "      <th>BMI</th>\n",
       "      <th>DiabetesPedigreeFunction</th>\n",
       "      <th>Age</th>\n",
       "      <th>Outcome</th>\n",
       "    </tr>\n",
       "  </thead>\n",
       "  <tbody>\n",
       "    <tr>\n",
       "      <th>0</th>\n",
       "      <td>6</td>\n",
       "      <td>148</td>\n",
       "      <td>72</td>\n",
       "      <td>35</td>\n",
       "      <td>0</td>\n",
       "      <td>33.6</td>\n",
       "      <td>0.627</td>\n",
       "      <td>50</td>\n",
       "      <td>1</td>\n",
       "    </tr>\n",
       "    <tr>\n",
       "      <th>1</th>\n",
       "      <td>1</td>\n",
       "      <td>85</td>\n",
       "      <td>66</td>\n",
       "      <td>29</td>\n",
       "      <td>0</td>\n",
       "      <td>26.6</td>\n",
       "      <td>0.351</td>\n",
       "      <td>31</td>\n",
       "      <td>0</td>\n",
       "    </tr>\n",
       "    <tr>\n",
       "      <th>2</th>\n",
       "      <td>8</td>\n",
       "      <td>183</td>\n",
       "      <td>64</td>\n",
       "      <td>0</td>\n",
       "      <td>0</td>\n",
       "      <td>23.3</td>\n",
       "      <td>0.672</td>\n",
       "      <td>32</td>\n",
       "      <td>1</td>\n",
       "    </tr>\n",
       "    <tr>\n",
       "      <th>3</th>\n",
       "      <td>1</td>\n",
       "      <td>89</td>\n",
       "      <td>66</td>\n",
       "      <td>23</td>\n",
       "      <td>94</td>\n",
       "      <td>28.1</td>\n",
       "      <td>0.167</td>\n",
       "      <td>21</td>\n",
       "      <td>0</td>\n",
       "    </tr>\n",
       "    <tr>\n",
       "      <th>4</th>\n",
       "      <td>0</td>\n",
       "      <td>137</td>\n",
       "      <td>40</td>\n",
       "      <td>35</td>\n",
       "      <td>168</td>\n",
       "      <td>43.1</td>\n",
       "      <td>2.288</td>\n",
       "      <td>33</td>\n",
       "      <td>1</td>\n",
       "    </tr>\n",
       "    <tr>\n",
       "      <th>5</th>\n",
       "      <td>5</td>\n",
       "      <td>116</td>\n",
       "      <td>74</td>\n",
       "      <td>0</td>\n",
       "      <td>0</td>\n",
       "      <td>25.6</td>\n",
       "      <td>0.201</td>\n",
       "      <td>30</td>\n",
       "      <td>0</td>\n",
       "    </tr>\n",
       "    <tr>\n",
       "      <th>6</th>\n",
       "      <td>3</td>\n",
       "      <td>78</td>\n",
       "      <td>50</td>\n",
       "      <td>32</td>\n",
       "      <td>88</td>\n",
       "      <td>31.0</td>\n",
       "      <td>0.248</td>\n",
       "      <td>26</td>\n",
       "      <td>1</td>\n",
       "    </tr>\n",
       "    <tr>\n",
       "      <th>7</th>\n",
       "      <td>10</td>\n",
       "      <td>115</td>\n",
       "      <td>0</td>\n",
       "      <td>0</td>\n",
       "      <td>0</td>\n",
       "      <td>35.3</td>\n",
       "      <td>0.134</td>\n",
       "      <td>29</td>\n",
       "      <td>0</td>\n",
       "    </tr>\n",
       "    <tr>\n",
       "      <th>8</th>\n",
       "      <td>2</td>\n",
       "      <td>197</td>\n",
       "      <td>70</td>\n",
       "      <td>45</td>\n",
       "      <td>543</td>\n",
       "      <td>30.5</td>\n",
       "      <td>0.158</td>\n",
       "      <td>53</td>\n",
       "      <td>1</td>\n",
       "    </tr>\n",
       "    <tr>\n",
       "      <th>9</th>\n",
       "      <td>8</td>\n",
       "      <td>125</td>\n",
       "      <td>96</td>\n",
       "      <td>0</td>\n",
       "      <td>0</td>\n",
       "      <td>0.0</td>\n",
       "      <td>0.232</td>\n",
       "      <td>54</td>\n",
       "      <td>1</td>\n",
       "    </tr>\n",
       "    <tr>\n",
       "      <th>10</th>\n",
       "      <td>4</td>\n",
       "      <td>110</td>\n",
       "      <td>92</td>\n",
       "      <td>0</td>\n",
       "      <td>0</td>\n",
       "      <td>37.6</td>\n",
       "      <td>0.191</td>\n",
       "      <td>30</td>\n",
       "      <td>0</td>\n",
       "    </tr>\n",
       "    <tr>\n",
       "      <th>11</th>\n",
       "      <td>10</td>\n",
       "      <td>168</td>\n",
       "      <td>74</td>\n",
       "      <td>0</td>\n",
       "      <td>0</td>\n",
       "      <td>38.0</td>\n",
       "      <td>0.537</td>\n",
       "      <td>34</td>\n",
       "      <td>1</td>\n",
       "    </tr>\n",
       "    <tr>\n",
       "      <th>12</th>\n",
       "      <td>10</td>\n",
       "      <td>139</td>\n",
       "      <td>80</td>\n",
       "      <td>0</td>\n",
       "      <td>0</td>\n",
       "      <td>27.1</td>\n",
       "      <td>1.441</td>\n",
       "      <td>57</td>\n",
       "      <td>0</td>\n",
       "    </tr>\n",
       "    <tr>\n",
       "      <th>13</th>\n",
       "      <td>1</td>\n",
       "      <td>189</td>\n",
       "      <td>60</td>\n",
       "      <td>23</td>\n",
       "      <td>846</td>\n",
       "      <td>30.1</td>\n",
       "      <td>0.398</td>\n",
       "      <td>59</td>\n",
       "      <td>1</td>\n",
       "    </tr>\n",
       "    <tr>\n",
       "      <th>14</th>\n",
       "      <td>5</td>\n",
       "      <td>166</td>\n",
       "      <td>72</td>\n",
       "      <td>19</td>\n",
       "      <td>175</td>\n",
       "      <td>25.8</td>\n",
       "      <td>0.587</td>\n",
       "      <td>51</td>\n",
       "      <td>1</td>\n",
       "    </tr>\n",
       "  </tbody>\n",
       "</table>\n",
       "</div>"
      ],
      "text/plain": [
       "    Pregnancies  Glucose  BloodPressure  SkinThickness  Insulin   BMI  \\\n",
       "0             6      148             72             35        0  33.6   \n",
       "1             1       85             66             29        0  26.6   \n",
       "2             8      183             64              0        0  23.3   \n",
       "3             1       89             66             23       94  28.1   \n",
       "4             0      137             40             35      168  43.1   \n",
       "5             5      116             74              0        0  25.6   \n",
       "6             3       78             50             32       88  31.0   \n",
       "7            10      115              0              0        0  35.3   \n",
       "8             2      197             70             45      543  30.5   \n",
       "9             8      125             96              0        0   0.0   \n",
       "10            4      110             92              0        0  37.6   \n",
       "11           10      168             74              0        0  38.0   \n",
       "12           10      139             80              0        0  27.1   \n",
       "13            1      189             60             23      846  30.1   \n",
       "14            5      166             72             19      175  25.8   \n",
       "\n",
       "    DiabetesPedigreeFunction  Age  Outcome  \n",
       "0                      0.627   50        1  \n",
       "1                      0.351   31        0  \n",
       "2                      0.672   32        1  \n",
       "3                      0.167   21        0  \n",
       "4                      2.288   33        1  \n",
       "5                      0.201   30        0  \n",
       "6                      0.248   26        1  \n",
       "7                      0.134   29        0  \n",
       "8                      0.158   53        1  \n",
       "9                      0.232   54        1  \n",
       "10                     0.191   30        0  \n",
       "11                     0.537   34        1  \n",
       "12                     1.441   57        0  \n",
       "13                     0.398   59        1  \n",
       "14                     0.587   51        1  "
      ]
     },
     "execution_count": 6,
     "metadata": {},
     "output_type": "execute_result"
    }
   ],
   "source": [
    "df.head(15)"
   ]
  },
  {
   "cell_type": "code",
   "execution_count": 7,
   "id": "0ceda73c-af99-4c15-8102-a83b380a4217",
   "metadata": {},
   "outputs": [],
   "source": [
    "cols = ['Glucose','BloodPressure','SkinThickness','Insulin','BMI']\n",
    "for col in cols:\n",
    "    df[col] = df[col].replace(0,df[col].mean())"
   ]
  },
  {
   "cell_type": "code",
   "execution_count": 8,
   "id": "ec540dae-ee09-4212-a77c-6735467e77cb",
   "metadata": {},
   "outputs": [
    {
     "data": {
      "text/html": [
       "<div>\n",
       "<style scoped>\n",
       "    .dataframe tbody tr th:only-of-type {\n",
       "        vertical-align: middle;\n",
       "    }\n",
       "\n",
       "    .dataframe tbody tr th {\n",
       "        vertical-align: top;\n",
       "    }\n",
       "\n",
       "    .dataframe thead th {\n",
       "        text-align: right;\n",
       "    }\n",
       "</style>\n",
       "<table border=\"1\" class=\"dataframe\">\n",
       "  <thead>\n",
       "    <tr style=\"text-align: right;\">\n",
       "      <th></th>\n",
       "      <th>Pregnancies</th>\n",
       "      <th>Glucose</th>\n",
       "      <th>BloodPressure</th>\n",
       "      <th>SkinThickness</th>\n",
       "      <th>Insulin</th>\n",
       "      <th>BMI</th>\n",
       "      <th>DiabetesPedigreeFunction</th>\n",
       "      <th>Age</th>\n",
       "      <th>Outcome</th>\n",
       "    </tr>\n",
       "  </thead>\n",
       "  <tbody>\n",
       "    <tr>\n",
       "      <th>0</th>\n",
       "      <td>6</td>\n",
       "      <td>148.0</td>\n",
       "      <td>72.000000</td>\n",
       "      <td>35.000000</td>\n",
       "      <td>79.799479</td>\n",
       "      <td>33.600000</td>\n",
       "      <td>0.627</td>\n",
       "      <td>50</td>\n",
       "      <td>1</td>\n",
       "    </tr>\n",
       "    <tr>\n",
       "      <th>1</th>\n",
       "      <td>1</td>\n",
       "      <td>85.0</td>\n",
       "      <td>66.000000</td>\n",
       "      <td>29.000000</td>\n",
       "      <td>79.799479</td>\n",
       "      <td>26.600000</td>\n",
       "      <td>0.351</td>\n",
       "      <td>31</td>\n",
       "      <td>0</td>\n",
       "    </tr>\n",
       "    <tr>\n",
       "      <th>2</th>\n",
       "      <td>8</td>\n",
       "      <td>183.0</td>\n",
       "      <td>64.000000</td>\n",
       "      <td>20.536458</td>\n",
       "      <td>79.799479</td>\n",
       "      <td>23.300000</td>\n",
       "      <td>0.672</td>\n",
       "      <td>32</td>\n",
       "      <td>1</td>\n",
       "    </tr>\n",
       "    <tr>\n",
       "      <th>3</th>\n",
       "      <td>1</td>\n",
       "      <td>89.0</td>\n",
       "      <td>66.000000</td>\n",
       "      <td>23.000000</td>\n",
       "      <td>94.000000</td>\n",
       "      <td>28.100000</td>\n",
       "      <td>0.167</td>\n",
       "      <td>21</td>\n",
       "      <td>0</td>\n",
       "    </tr>\n",
       "    <tr>\n",
       "      <th>4</th>\n",
       "      <td>0</td>\n",
       "      <td>137.0</td>\n",
       "      <td>40.000000</td>\n",
       "      <td>35.000000</td>\n",
       "      <td>168.000000</td>\n",
       "      <td>43.100000</td>\n",
       "      <td>2.288</td>\n",
       "      <td>33</td>\n",
       "      <td>1</td>\n",
       "    </tr>\n",
       "    <tr>\n",
       "      <th>5</th>\n",
       "      <td>5</td>\n",
       "      <td>116.0</td>\n",
       "      <td>74.000000</td>\n",
       "      <td>20.536458</td>\n",
       "      <td>79.799479</td>\n",
       "      <td>25.600000</td>\n",
       "      <td>0.201</td>\n",
       "      <td>30</td>\n",
       "      <td>0</td>\n",
       "    </tr>\n",
       "    <tr>\n",
       "      <th>6</th>\n",
       "      <td>3</td>\n",
       "      <td>78.0</td>\n",
       "      <td>50.000000</td>\n",
       "      <td>32.000000</td>\n",
       "      <td>88.000000</td>\n",
       "      <td>31.000000</td>\n",
       "      <td>0.248</td>\n",
       "      <td>26</td>\n",
       "      <td>1</td>\n",
       "    </tr>\n",
       "    <tr>\n",
       "      <th>7</th>\n",
       "      <td>10</td>\n",
       "      <td>115.0</td>\n",
       "      <td>69.105469</td>\n",
       "      <td>20.536458</td>\n",
       "      <td>79.799479</td>\n",
       "      <td>35.300000</td>\n",
       "      <td>0.134</td>\n",
       "      <td>29</td>\n",
       "      <td>0</td>\n",
       "    </tr>\n",
       "    <tr>\n",
       "      <th>8</th>\n",
       "      <td>2</td>\n",
       "      <td>197.0</td>\n",
       "      <td>70.000000</td>\n",
       "      <td>45.000000</td>\n",
       "      <td>543.000000</td>\n",
       "      <td>30.500000</td>\n",
       "      <td>0.158</td>\n",
       "      <td>53</td>\n",
       "      <td>1</td>\n",
       "    </tr>\n",
       "    <tr>\n",
       "      <th>9</th>\n",
       "      <td>8</td>\n",
       "      <td>125.0</td>\n",
       "      <td>96.000000</td>\n",
       "      <td>20.536458</td>\n",
       "      <td>79.799479</td>\n",
       "      <td>31.992578</td>\n",
       "      <td>0.232</td>\n",
       "      <td>54</td>\n",
       "      <td>1</td>\n",
       "    </tr>\n",
       "    <tr>\n",
       "      <th>10</th>\n",
       "      <td>4</td>\n",
       "      <td>110.0</td>\n",
       "      <td>92.000000</td>\n",
       "      <td>20.536458</td>\n",
       "      <td>79.799479</td>\n",
       "      <td>37.600000</td>\n",
       "      <td>0.191</td>\n",
       "      <td>30</td>\n",
       "      <td>0</td>\n",
       "    </tr>\n",
       "    <tr>\n",
       "      <th>11</th>\n",
       "      <td>10</td>\n",
       "      <td>168.0</td>\n",
       "      <td>74.000000</td>\n",
       "      <td>20.536458</td>\n",
       "      <td>79.799479</td>\n",
       "      <td>38.000000</td>\n",
       "      <td>0.537</td>\n",
       "      <td>34</td>\n",
       "      <td>1</td>\n",
       "    </tr>\n",
       "    <tr>\n",
       "      <th>12</th>\n",
       "      <td>10</td>\n",
       "      <td>139.0</td>\n",
       "      <td>80.000000</td>\n",
       "      <td>20.536458</td>\n",
       "      <td>79.799479</td>\n",
       "      <td>27.100000</td>\n",
       "      <td>1.441</td>\n",
       "      <td>57</td>\n",
       "      <td>0</td>\n",
       "    </tr>\n",
       "    <tr>\n",
       "      <th>13</th>\n",
       "      <td>1</td>\n",
       "      <td>189.0</td>\n",
       "      <td>60.000000</td>\n",
       "      <td>23.000000</td>\n",
       "      <td>846.000000</td>\n",
       "      <td>30.100000</td>\n",
       "      <td>0.398</td>\n",
       "      <td>59</td>\n",
       "      <td>1</td>\n",
       "    </tr>\n",
       "    <tr>\n",
       "      <th>14</th>\n",
       "      <td>5</td>\n",
       "      <td>166.0</td>\n",
       "      <td>72.000000</td>\n",
       "      <td>19.000000</td>\n",
       "      <td>175.000000</td>\n",
       "      <td>25.800000</td>\n",
       "      <td>0.587</td>\n",
       "      <td>51</td>\n",
       "      <td>1</td>\n",
       "    </tr>\n",
       "  </tbody>\n",
       "</table>\n",
       "</div>"
      ],
      "text/plain": [
       "    Pregnancies  Glucose  BloodPressure  SkinThickness     Insulin        BMI  \\\n",
       "0             6    148.0      72.000000      35.000000   79.799479  33.600000   \n",
       "1             1     85.0      66.000000      29.000000   79.799479  26.600000   \n",
       "2             8    183.0      64.000000      20.536458   79.799479  23.300000   \n",
       "3             1     89.0      66.000000      23.000000   94.000000  28.100000   \n",
       "4             0    137.0      40.000000      35.000000  168.000000  43.100000   \n",
       "5             5    116.0      74.000000      20.536458   79.799479  25.600000   \n",
       "6             3     78.0      50.000000      32.000000   88.000000  31.000000   \n",
       "7            10    115.0      69.105469      20.536458   79.799479  35.300000   \n",
       "8             2    197.0      70.000000      45.000000  543.000000  30.500000   \n",
       "9             8    125.0      96.000000      20.536458   79.799479  31.992578   \n",
       "10            4    110.0      92.000000      20.536458   79.799479  37.600000   \n",
       "11           10    168.0      74.000000      20.536458   79.799479  38.000000   \n",
       "12           10    139.0      80.000000      20.536458   79.799479  27.100000   \n",
       "13            1    189.0      60.000000      23.000000  846.000000  30.100000   \n",
       "14            5    166.0      72.000000      19.000000  175.000000  25.800000   \n",
       "\n",
       "    DiabetesPedigreeFunction  Age  Outcome  \n",
       "0                      0.627   50        1  \n",
       "1                      0.351   31        0  \n",
       "2                      0.672   32        1  \n",
       "3                      0.167   21        0  \n",
       "4                      2.288   33        1  \n",
       "5                      0.201   30        0  \n",
       "6                      0.248   26        1  \n",
       "7                      0.134   29        0  \n",
       "8                      0.158   53        1  \n",
       "9                      0.232   54        1  \n",
       "10                     0.191   30        0  \n",
       "11                     0.537   34        1  \n",
       "12                     1.441   57        0  \n",
       "13                     0.398   59        1  \n",
       "14                     0.587   51        1  "
      ]
     },
     "execution_count": 8,
     "metadata": {},
     "output_type": "execute_result"
    }
   ],
   "source": [
    "df.head(15)"
   ]
  },
  {
   "cell_type": "code",
   "execution_count": 9,
   "id": "0a676318-cb7f-4c66-b73a-ce10359c0c6d",
   "metadata": {},
   "outputs": [],
   "source": [
    "import matplotlib.pyplot as plt\n",
    "import seaborn as sns"
   ]
  },
  {
   "cell_type": "code",
   "execution_count": 10,
   "id": "49595733-17a2-4331-bdb6-d6bb3b15b0da",
   "metadata": {},
   "outputs": [
    {
     "data": {
      "image/png": "[encoded data removed]",
      "text/plain": [
       "<Figure size 500x300 with 1 Axes>"
      ]
     },
     "metadata": {},
     "output_type": "display_data"
    }
   ],
   "source": [
    "plt.figure(figsize=(5,3))\n",
    "sns.countplot(x = 'Outcome', data = df)\n",
    "plt.show()"
   ]
  },
  {
   "cell_type": "code",
   "execution_count": 11,
   "id": "a5766d6b-967e-4ab9-b08d-2b7ad76fe814",
   "metadata": {},
   "outputs": [
    {
     "data": {
      "image/png": "[encoded data removed]",
      "text/plain": [
       "<Figure size 640x480 with 2 Axes>"
      ]
     },
     "metadata": {},
     "output_type": "display_data"
    }
   ],
   "source": [
    "sns.heatmap(data = df.corr(),annot=True,cmap='coolwarm')\n",
    "plt.show()"
   ]
  },
  {
   "cell_type": "markdown",
   "id": "93b0ce4f-acf6-4780-a224-55ae08067990",
   "metadata": {},
   "source": [
    "# TRAINING AND TESTING"
   ]
  },
  {
   "cell_type": "code",
   "execution_count": 12,
   "id": "b0aaac0e-11a8-4d5a-a93b-37b23763ef52",
   "metadata": {},
   "outputs": [],
   "source": [
    "x = df.drop(columns='Outcome')\n",
    "y = df['Outcome']"
   ]
  },
  {
   "cell_type": "code",
   "execution_count": 13,
   "id": "48e94da7-08f6-4926-ae0b-8b1e170c7ee0",
   "metadata": {},
   "outputs": [],
   "source": [
    "from sklearn.model_selection import train_test_split\n",
    "x_train,x_test,y_train,y_test = train_test_split(x,y,test_size=0.3,random_state=42)"
   ]
  },
  {
   "cell_type": "code",
   "execution_count": 14,
   "id": "df16ffa6-f3de-4bf5-829d-92aaddf322e2",
   "metadata": {},
   "outputs": [],
   "source": [
    "from sklearn.preprocessing import StandardScaler\n",
    "\n",
    "scaler = StandardScaler()\n",
    "x_train = scaler.fit_transform(x_train)\n",
    "x_test = scaler.transform(x_test)"
   ]
  },
  {
   "cell_type": "code",
   "execution_count": 15,
   "id": "ba7d86d2-5c5f-43d0-af62-81e66cd89ae4",
   "metadata": {},
   "outputs": [
    {
     "data": {
      "text/plain": [
       "(231, 8)"
      ]
     },
     "execution_count": 15,
     "metadata": {},
     "output_type": "execute_result"
    }
   ],
   "source": [
    "x_train.shape\n",
    "x_test.shape"
   ]
  },
  {
   "cell_type": "markdown",
   "id": "a3b91a68-8a64-43da-aa53-1c2f1e8b6639",
   "metadata": {},
   "source": [
    "# MODEL SELECTION"
   ]
  },
  {
   "cell_type": "code",
   "execution_count": 16,
   "id": "3acc9a77-e91b-44a5-a0ec-745b1476f14c",
   "metadata": {},
   "outputs": [],
   "source": [
    "from sklearn.linear_model import LogisticRegression\n",
    "from sklearn.ensemble import RandomForestClassifier\n",
    "from sklearn.tree import DecisionTreeClassifier\n",
    "from sklearn.svm import SVC\n",
    "from sklearn.naive_bayes import GaussianNB"
   ]
  },
  {
   "cell_type": "code",
   "execution_count": 17,
   "id": "6fb28757-19f9-4352-acc6-58183e6dbcad",
   "metadata": {},
   "outputs": [],
   "source": [
    "from sklearn.metrics import accuracy_score, f1_score,precision_score,recall_score,confusion_matrix,roc_curve,auc"
   ]
  },
  {
   "cell_type": "code",
   "execution_count": 18,
   "id": "e6b6636d-7870-4c43-a37a-91954218ac16",
   "metadata": {},
   "outputs": [
    {
     "name": "stdout",
     "output_type": "stream",
     "text": [
      "                 Model  Accuracy  Precision  Recall  F1-Score\n",
      "0  Logistic Regression  0.740260   0.635135  0.5875  0.610390\n",
      "1        Random Forest  0.740260   0.621951  0.6375  0.629630\n",
      "2        Decision Tree  0.692641   0.546392  0.6625  0.598870\n",
      "3                  SVM  0.744589   0.643836  0.5875  0.614379\n",
      "4          Naive Bayes  0.740260   0.621951  0.6375  0.629630\n"
     ]
    }
   ],
   "source": [
    "models = {\n",
    "    \"Logistic Regression\": LogisticRegression(random_state=42),\n",
    "    \"Random Forest\": RandomForestClassifier(n_estimators=100,random_state=42),\n",
    "    \"Decision Tree\": DecisionTreeClassifier(random_state=42),\n",
    "    \"SVM\": SVC(kernel = 'linear', probability=True),\n",
    "    \"Naive Bayes\": GaussianNB(),\n",
    "}\n",
    "\n",
    "metrics={\n",
    "    \"Model\": [],\n",
    "    \"Accuracy\": [],\n",
    "    \"Precision\": [],\n",
    "    \"Recall\": [],\n",
    "    \"F1-Score\": [],\n",
    "}\n",
    "\n",
    "for model_name, model in models.items():\n",
    "    model.fit(x_train,y_train)\n",
    "    y_pred = model.predict(x_test)\n",
    "    \n",
    "    accuracy = accuracy_score(y_test,y_pred)\n",
    "    precision = precision_score(y_test,y_pred)\n",
    "    recall = recall_score(y_test,y_pred)\n",
    "    f1 = f1_score(y_test,y_pred)\n",
    "    \n",
    "    metrics['Model'].append(model_name)\n",
    "    metrics['Accuracy'].append(accuracy)\n",
    "    metrics['Precision'].append(precision)\n",
    "    metrics['Recall'].append(recall)\n",
    "    metrics['F1-Score'].append(f1)\n",
    "\n",
    "metrics_df = pd.DataFrame(metrics)\n",
    "print(metrics_df)"
   ]
  },
  {
   "cell_type": "markdown",
   "id": "747b7b91-ca40-41db-9d0e-debbd6d8e5eb",
   "metadata": {},
   "source": [
    "\n",
    "\n",
    "conclusion: \n",
    "1. SVM has the highest accuracy (0.7445), meaning it correctly classifies the most cases overall.\n",
    "2. Random Forest and Naïve Bayes have the highest F1-score (0.6296), meaning they balance precision & recall well.\n",
    "3. Decision Tree performs the worst (0.6926 accuracy, lowest F1-score 0.5988), suggesting overfitting or inefficiency.\n",
    "4. Logistic Regression is decent (0.7402 accuracy, F1-score 0.6103), meaning it's a good baseline model."
   ]
  },
  {
   "cell_type": "markdown",
   "id": "0faf6dbb-b6c0-4665-9052-b8db812cf406",
   "metadata": {},
   "source": [
    "# Hyperparameter Tuning"
   ]
  },
  {
   "cell_type": "code",
   "execution_count": 19,
   "id": "b66ff271-8123-4e48-bb74-c7909fd2d476",
   "metadata": {},
   "outputs": [],
   "source": [
    "import optuna"
   ]
  },
  {
   "cell_type": "code",
   "execution_count": 20,
   "id": "9fddac97-9a21-4945-b399-c7ab99676fa5",
   "metadata": {},
   "outputs": [],
   "source": [
    "from sklearn.model_selection import cross_val_score"
   ]
  },
  {
   "cell_type": "code",
   "execution_count": 21,
   "id": "5beb17f2-eddc-4a33-a062-ebc280b6e002",
   "metadata": {},
   "outputs": [],
   "source": [
    "def objective(trial):\n",
    "        c = trial.suggest_float('C', 0.1, 100, log=True)\n",
    "        kernel = trial.suggest_categorical('kernel', ['linear', 'rbf', 'poly', 'sigmoid'])\n",
    "        gamma = trial.suggest_categorical('gamma', ['scale', 'auto'])\n",
    "\n",
    "        model = SVC(C=c, kernel=kernel, gamma=gamma, random_state=42)\n",
    "        score = cross_val_score(model, x_train, y_train, cv=3, scoring='accuracy').mean()\n",
    "        return score"
   ]
  },
  {
   "cell_type": "code",
   "execution_count": 22,
   "id": "0714de8f-9659-45ca-b55e-742055e54a03",
   "metadata": {},
   "outputs": [
    {
     "name": "stderr",
     "output_type": "stream",
     "text": [
      "[I 2025-03-29 22:50:53,654] A new study created in memory with name: no-name-38eeaa57-0b1e-475c-ba32-fa7e5cec3b08\n",
      "[I 2025-03-29 22:50:53,716] Trial 0 finished with value: 0.7057728119180634 and parameters: {'C': 10.17602318923963, 'kernel': 'poly', 'gamma': 'scale'}. Best is trial 0 with value: 0.7057728119180634.\n",
      "[I 2025-03-29 22:50:53,760] Trial 1 finished with value: 0.7672253258845437 and parameters: {'C': 0.7614424977934563, 'kernel': 'rbf', 'gamma': 'scale'}. Best is trial 1 with value: 0.7672253258845437.\n",
      "[I 2025-03-29 22:50:53,796] Trial 2 finished with value: 0.7188081936685289 and parameters: {'C': 7.152565600872291, 'kernel': 'poly', 'gamma': 'scale'}. Best is trial 1 with value: 0.7672253258845437.\n",
      "[I 2025-03-29 22:50:54,054] Trial 3 finished with value: 0.7746741154562384 and parameters: {'C': 96.75195201183988, 'kernel': 'linear', 'gamma': 'auto'}. Best is trial 3 with value: 0.7746741154562384.\n",
      "[I 2025-03-29 22:50:54,104] Trial 4 finished with value: 0.7486033519553073 and parameters: {'C': 21.28209797172544, 'kernel': 'rbf', 'gamma': 'scale'}. Best is trial 3 with value: 0.7746741154562384.\n",
      "[I 2025-03-29 22:50:54,138] Trial 5 finished with value: 0.7653631284916201 and parameters: {'C': 0.7035467791740002, 'kernel': 'rbf', 'gamma': 'auto'}. Best is trial 3 with value: 0.7746741154562384.\n",
      "[I 2025-03-29 22:50:54,168] Trial 6 finished with value: 0.7206703910614526 and parameters: {'C': 0.16820825731158262, 'kernel': 'poly', 'gamma': 'auto'}. Best is trial 3 with value: 0.7746741154562384.\n",
      "[I 2025-03-29 22:50:54,212] Trial 7 finished with value: 0.7541899441340782 and parameters: {'C': 2.7742654597154983, 'kernel': 'rbf', 'gamma': 'scale'}. Best is trial 3 with value: 0.7746741154562384.\n",
      "[I 2025-03-29 22:50:54,263] Trial 8 finished with value: 0.7746741154562384 and parameters: {'C': 5.534665766618966, 'kernel': 'linear', 'gamma': 'auto'}. Best is trial 3 with value: 0.7746741154562384.\n",
      "[I 2025-03-29 22:50:54,302] Trial 9 finished with value: 0.7746741154562384 and parameters: {'C': 0.8815070418455807, 'kernel': 'rbf', 'gamma': 'scale'}. Best is trial 3 with value: 0.7746741154562384.\n",
      "[I 2025-03-29 22:50:54,493] Trial 10 finished with value: 0.7746741154562384 and parameters: {'C': 54.987483108148076, 'kernel': 'linear', 'gamma': 'auto'}. Best is trial 3 with value: 0.7746741154562384.\n",
      "[I 2025-03-29 22:50:54,677] Trial 11 finished with value: 0.7746741154562384 and parameters: {'C': 62.002135460062426, 'kernel': 'linear', 'gamma': 'auto'}. Best is trial 3 with value: 0.7746741154562384.\n",
      "[I 2025-03-29 22:50:54,714] Trial 12 finished with value: 0.7057728119180634 and parameters: {'C': 21.508607948426643, 'kernel': 'sigmoid', 'gamma': 'auto'}. Best is trial 3 with value: 0.7746741154562384.\n",
      "[I 2025-03-29 22:50:55,024] Trial 13 finished with value: 0.7746741154562384 and parameters: {'C': 94.44356143651034, 'kernel': 'linear', 'gamma': 'auto'}. Best is trial 3 with value: 0.7746741154562384.\n",
      "[I 2025-03-29 22:50:55,058] Trial 14 finished with value: 0.7746741154562384 and parameters: {'C': 2.736254390989238, 'kernel': 'linear', 'gamma': 'auto'}. Best is trial 3 with value: 0.7746741154562384.\n",
      "[I 2025-03-29 22:50:55,079] Trial 15 finished with value: 0.7783985102420856 and parameters: {'C': 0.12995080867054118, 'kernel': 'linear', 'gamma': 'auto'}. Best is trial 15 with value: 0.7783985102420856.\n",
      "[I 2025-03-29 22:50:55,109] Trial 16 finished with value: 0.7635009310986964 and parameters: {'C': 0.11546287106372423, 'kernel': 'sigmoid', 'gamma': 'auto'}. Best is trial 15 with value: 0.7783985102420856.\n",
      "[I 2025-03-29 22:50:55,128] Trial 17 finished with value: 0.7783985102420857 and parameters: {'C': 0.30028217495372617, 'kernel': 'linear', 'gamma': 'auto'}. Best is trial 17 with value: 0.7783985102420857.\n",
      "[I 2025-03-29 22:50:55,160] Trial 18 finished with value: 0.7783985102420857 and parameters: {'C': 0.2943957547247799, 'kernel': 'linear', 'gamma': 'auto'}. Best is trial 17 with value: 0.7783985102420857.\n",
      "[I 2025-03-29 22:50:55,188] Trial 19 finished with value: 0.7728119180633147 and parameters: {'C': 0.33698212376119574, 'kernel': 'linear', 'gamma': 'auto'}. Best is trial 17 with value: 0.7783985102420857.\n",
      "[I 2025-03-29 22:50:55,210] Trial 20 finished with value: 0.7579143389199254 and parameters: {'C': 0.30676498920010736, 'kernel': 'sigmoid', 'gamma': 'auto'}. Best is trial 17 with value: 0.7783985102420857.\n",
      "[I 2025-03-29 22:50:55,240] Trial 21 finished with value: 0.7783985102420857 and parameters: {'C': 0.2885273797208757, 'kernel': 'linear', 'gamma': 'auto'}. Best is trial 17 with value: 0.7783985102420857.\n",
      "[I 2025-03-29 22:50:55,262] Trial 22 finished with value: 0.7728119180633147 and parameters: {'C': 0.3957297860484348, 'kernel': 'linear', 'gamma': 'auto'}. Best is trial 17 with value: 0.7783985102420857.\n",
      "[I 2025-03-29 22:50:55,293] Trial 23 finished with value: 0.7746741154562384 and parameters: {'C': 1.3381222367827308, 'kernel': 'linear', 'gamma': 'auto'}. Best is trial 17 with value: 0.7783985102420857.\n",
      "[I 2025-03-29 22:50:55,313] Trial 24 finished with value: 0.7765363128491621 and parameters: {'C': 0.21885783028048345, 'kernel': 'linear', 'gamma': 'auto'}. Best is trial 17 with value: 0.7783985102420857.\n",
      "[I 2025-03-29 22:50:55,344] Trial 25 finished with value: 0.7746741154562384 and parameters: {'C': 1.7353679398267747, 'kernel': 'linear', 'gamma': 'auto'}. Best is trial 17 with value: 0.7783985102420857.\n",
      "[I 2025-03-29 22:50:55,376] Trial 26 finished with value: 0.7728119180633147 and parameters: {'C': 0.49733972491009387, 'kernel': 'linear', 'gamma': 'auto'}. Best is trial 17 with value: 0.7783985102420857.\n",
      "[I 2025-03-29 22:50:55,407] Trial 27 finished with value: 0.7765363128491621 and parameters: {'C': 0.2249126474753136, 'kernel': 'linear', 'gamma': 'auto'}. Best is trial 17 with value: 0.7783985102420857.\n",
      "[I 2025-03-29 22:50:55,427] Trial 28 finished with value: 0.7355679702048418 and parameters: {'C': 1.3837617011580936, 'kernel': 'poly', 'gamma': 'auto'}. Best is trial 17 with value: 0.7783985102420857.\n",
      "[I 2025-03-29 22:50:55,458] Trial 29 finished with value: 0.7672253258845437 and parameters: {'C': 0.5202107720831978, 'kernel': 'sigmoid', 'gamma': 'scale'}. Best is trial 17 with value: 0.7783985102420857.\n",
      "[I 2025-03-29 22:50:55,487] Trial 30 finished with value: 0.7113594040968344 and parameters: {'C': 0.10352105132688925, 'kernel': 'poly', 'gamma': 'auto'}. Best is trial 17 with value: 0.7783985102420857.\n",
      "[I 2025-03-29 22:50:55,509] Trial 31 finished with value: 0.7783985102420857 and parameters: {'C': 0.20667477829500727, 'kernel': 'linear', 'gamma': 'auto'}. Best is trial 17 with value: 0.7783985102420857.\n",
      "[I 2025-03-29 22:50:55,537] Trial 32 finished with value: 0.7765363128491621 and parameters: {'C': 0.23012180305853244, 'kernel': 'linear', 'gamma': 'auto'}. Best is trial 17 with value: 0.7783985102420857.\n",
      "[I 2025-03-29 22:50:55,569] Trial 33 finished with value: 0.7746741154562384 and parameters: {'C': 0.9420423445560074, 'kernel': 'linear', 'gamma': 'auto'}. Best is trial 17 with value: 0.7783985102420857.\n",
      "[I 2025-03-29 22:50:55,601] Trial 34 finished with value: 0.7728119180633147 and parameters: {'C': 0.5699434740915565, 'kernel': 'linear', 'gamma': 'scale'}. Best is trial 17 with value: 0.7783985102420857.\n",
      "[I 2025-03-29 22:50:55,628] Trial 35 finished with value: 0.7783985102420857 and parameters: {'C': 0.29325998599968434, 'kernel': 'linear', 'gamma': 'auto'}. Best is trial 17 with value: 0.7783985102420857.\n",
      "[I 2025-03-29 22:50:55,652] Trial 36 finished with value: 0.7802607076350093 and parameters: {'C': 0.15670611804979612, 'kernel': 'linear', 'gamma': 'scale'}. Best is trial 36 with value: 0.7802607076350093.\n",
      "[I 2025-03-29 22:50:55,683] Trial 37 finished with value: 0.7169459962756052 and parameters: {'C': 0.15964816914847518, 'kernel': 'poly', 'gamma': 'scale'}. Best is trial 36 with value: 0.7802607076350093.\n",
      "[I 2025-03-29 22:50:55,731] Trial 38 finished with value: 0.7635009310986964 and parameters: {'C': 0.4351985619548939, 'kernel': 'rbf', 'gamma': 'scale'}. Best is trial 36 with value: 0.7802607076350093.\n",
      "[I 2025-03-29 22:50:55,766] Trial 39 finished with value: 0.7728119180633147 and parameters: {'C': 0.7026814492295531, 'kernel': 'linear', 'gamma': 'scale'}. Best is trial 36 with value: 0.7802607076350093.\n",
      "[I 2025-03-29 22:50:55,824] Trial 40 finished with value: 0.7486033519553073 and parameters: {'C': 0.1449924994741129, 'kernel': 'rbf', 'gamma': 'scale'}. Best is trial 36 with value: 0.7802607076350093.\n",
      "[I 2025-03-29 22:50:55,853] Trial 41 finished with value: 0.7783985102420857 and parameters: {'C': 0.20811085066799445, 'kernel': 'linear', 'gamma': 'scale'}. Best is trial 36 with value: 0.7802607076350093.\n",
      "[I 2025-03-29 22:50:55,883] Trial 42 finished with value: 0.7783985102420857 and parameters: {'C': 0.29044368965443695, 'kernel': 'linear', 'gamma': 'scale'}. Best is trial 36 with value: 0.7802607076350093.\n",
      "[I 2025-03-29 22:50:55,925] Trial 43 finished with value: 0.7783985102420857 and parameters: {'C': 0.1435567454993647, 'kernel': 'linear', 'gamma': 'auto'}. Best is trial 36 with value: 0.7802607076350093.\n",
      "[I 2025-03-29 22:50:55,964] Trial 44 finished with value: 0.7802607076350093 and parameters: {'C': 0.18317955148778037, 'kernel': 'linear', 'gamma': 'auto'}. Best is trial 36 with value: 0.7802607076350093.\n",
      "[I 2025-03-29 22:50:56,008] Trial 45 finished with value: 0.7802607076350094 and parameters: {'C': 0.10048794007704676, 'kernel': 'linear', 'gamma': 'auto'}. Best is trial 45 with value: 0.7802607076350094.\n",
      "[I 2025-03-29 22:50:56,041] Trial 46 finished with value: 0.7783985102420857 and parameters: {'C': 0.11127612020337413, 'kernel': 'linear', 'gamma': 'scale'}. Best is trial 45 with value: 0.7802607076350094.\n",
      "[I 2025-03-29 22:50:56,067] Trial 47 finished with value: 0.7113594040968344 and parameters: {'C': 0.10075944231016, 'kernel': 'poly', 'gamma': 'auto'}. Best is trial 45 with value: 0.7802607076350094.\n",
      "[I 2025-03-29 22:50:56,107] Trial 48 finished with value: 0.7635009310986964 and parameters: {'C': 9.754708412104659, 'kernel': 'rbf', 'gamma': 'auto'}. Best is trial 45 with value: 0.7802607076350094.\n",
      "[I 2025-03-29 22:50:56,128] Trial 49 finished with value: 0.7206703910614526 and parameters: {'C': 5.060316055013475, 'kernel': 'sigmoid', 'gamma': 'auto'}. Best is trial 45 with value: 0.7802607076350094.\n",
      "[I 2025-03-29 22:50:56,161] Trial 50 finished with value: 0.7802607076350093 and parameters: {'C': 0.17545259315613923, 'kernel': 'linear', 'gamma': 'scale'}. Best is trial 45 with value: 0.7802607076350094.\n",
      "[I 2025-03-29 22:50:56,191] Trial 51 finished with value: 0.7802607076350093 and parameters: {'C': 0.15684485875681423, 'kernel': 'linear', 'gamma': 'scale'}. Best is trial 45 with value: 0.7802607076350094.\n",
      "[I 2025-03-29 22:50:56,211] Trial 52 finished with value: 0.7802607076350093 and parameters: {'C': 0.1767015556679351, 'kernel': 'linear', 'gamma': 'scale'}. Best is trial 45 with value: 0.7802607076350094.\n",
      "[I 2025-03-29 22:50:56,243] Trial 53 finished with value: 0.7802607076350093 and parameters: {'C': 0.1707006064639051, 'kernel': 'linear', 'gamma': 'scale'}. Best is trial 45 with value: 0.7802607076350094.\n",
      "[I 2025-03-29 22:50:56,271] Trial 54 finished with value: 0.7802607076350093 and parameters: {'C': 0.18187071837261504, 'kernel': 'linear', 'gamma': 'scale'}. Best is trial 45 with value: 0.7802607076350094.\n",
      "[I 2025-03-29 22:50:56,294] Trial 55 finished with value: 0.7783985102420857 and parameters: {'C': 0.14860301592098546, 'kernel': 'linear', 'gamma': 'scale'}. Best is trial 45 with value: 0.7802607076350094.\n",
      "[I 2025-03-29 22:50:56,313] Trial 56 finished with value: 0.7783985102420856 and parameters: {'C': 0.13115361359421632, 'kernel': 'linear', 'gamma': 'scale'}. Best is trial 45 with value: 0.7802607076350094.\n",
      "[I 2025-03-29 22:50:56,344] Trial 57 finished with value: 0.7802607076350093 and parameters: {'C': 0.18649870617944703, 'kernel': 'linear', 'gamma': 'scale'}. Best is trial 45 with value: 0.7802607076350094.\n",
      "[I 2025-03-29 22:50:56,424] Trial 58 finished with value: 0.7746741154562384 and parameters: {'C': 17.949390736133992, 'kernel': 'linear', 'gamma': 'scale'}. Best is trial 45 with value: 0.7802607076350094.\n",
      "[I 2025-03-29 22:50:56,457] Trial 59 finished with value: 0.7635009310986964 and parameters: {'C': 0.38740822843372447, 'kernel': 'sigmoid', 'gamma': 'scale'}. Best is trial 45 with value: 0.7802607076350094.\n"
     ]
    }
   ],
   "source": [
    "study = optuna.create_study(direction = 'maximize')\n",
    "study.optimize(objective,n_trials=60)"
   ]
  },
  {
   "cell_type": "code",
   "execution_count": 23,
   "id": "4dab9286-0a9c-4abe-8736-cc81b965688b",
   "metadata": {},
   "outputs": [
    {
     "name": "stdout",
     "output_type": "stream",
     "text": [
      "Best Hyperparamters: {'C': 0.10048794007704676, 'kernel': 'linear', 'gamma': 'auto'}\n",
      "Best Trial Accuracy: 0.7802607076350094\n"
     ]
    }
   ],
   "source": [
    "print(f'Best Hyperparamters: {study.best_trial.params}')\n",
    "print(f'Best Trial Accuracy: {study.best_trial.value}')"
   ]
  },
  {
   "cell_type": "code",
   "execution_count": 24,
   "id": "22ffb9c4-6f44-4bae-8f03-c3604fee3104",
   "metadata": {},
   "outputs": [
    {
     "name": "stdout",
     "output_type": "stream",
     "text": [
      "Test Accuracy with best hyperparameters: 0.75\n"
     ]
    }
   ],
   "source": [
    "bt_model = SVC(**study.best_trial.params, random_state=42)\n",
    "\n",
    "# Fit the model to the training data\n",
    "bt_model.fit(x_train, y_train)\n",
    "\n",
    "# Make predictions on the test set\n",
    "y_pred = bt_model.predict(x_test)\n",
    "\n",
    "# Calculate the accuracy on the test set\n",
    "test_accuracy = accuracy_score(y_test, y_pred)\n",
    "\n",
    "# Print the test accuracy\n",
    "print(f'Test Accuracy with best hyperparameters: {test_accuracy:.2f}')"
   ]
  },
  {
   "cell_type": "code",
   "execution_count": 37,
   "id": "68329014-1f50-45d3-a3b7-a71b1aab0b63",
   "metadata": {},
   "outputs": [
    {
     "name": "stdout",
     "output_type": "stream",
     "text": [
      "Prediction:  Diabetic\n"
     ]
    }
   ],
   "source": [
    "new_sample = np.array([[6, 148.0, 72.0, 35.0, 79.799479, 33.6, 0.627, 50]])\n",
    "prediction = bt_model.predict(new_sample)\n",
    "predicted_class = prediction[0]\n",
    "print(\"Prediction: \", \"Diabetic\" if predicted_class == 1 else \"Non-Diabetic\")"
   ]
  },
  {
   "cell_type": "code",
   "execution_count": 38,
   "id": "05f27d0f-b9d9-4172-8d1d-0713baf36195",
   "metadata": {},
   "outputs": [
    {
     "name": "stdout",
     "output_type": "stream",
     "text": [
      "Index(['Pregnancies', 'Glucose', 'BloodPressure', 'SkinThickness', 'Insulin',\n",
      "       'BMI', 'DiabetesPedigreeFunction', 'Age'],\n",
      "      dtype='object')\n"
     ]
    }
   ],
   "source": [
    "print(x.columns)"
   ]
  },
  {
   "cell_type": "markdown",
   "id": "059f59ba-5023-4d29-91da-fff61f540d77",
   "metadata": {},
   "source": [
    "# SAVING THE MODEL"
   ]
  },
  {
   "cell_type": "code",
   "execution_count": 39,
   "id": "d1352899-9035-4979-9f38-4d5b0116d87a",
   "metadata": {},
   "outputs": [],
   "source": [
    "import pickle"
   ]
  },
  {
   "cell_type": "code",
   "execution_count": 40,
   "id": "851605e0-5351-432e-ac64-b665a6835e5c",
   "metadata": {},
   "outputs": [],
   "source": [
    "filename = 'Diabetes_model.sav'\n",
    "pickle.dump(bt_model, open(filename,'wb'))"
   ]
  },
  {
   "cell_type": "code",
   "execution_count": 41,
   "id": "789d57f8-0ad0-4a98-8859-04f7b82d32ba",
   "metadata": {},
   "outputs": [],
   "source": [
    "loaded_model = pickle.load(open('C:/Users/TTBSADMIN/HEALTHCARE/Diabetes_model.sav','rb'))"
   ]
  },
  {
   "cell_type": "code",
   "execution_count": 45,
   "id": "be332f42-ae50-4c2f-b05f-727d3eb4efc2",
   "metadata": {},
   "outputs": [
    {
     "name": "stdout",
     "output_type": "stream",
     "text": [
      "[1]\n",
      "The person is diabetic\n"
     ]
    }
   ],
   "source": [
    "input_data = (5,166,72,19,175,25.8,0.587,51)\n",
    "\n",
    "# changing the input_data to numpy array\n",
    "input_data_as_numpy_array = np.asarray(input_data)\n",
    "\n",
    "# reshape the array as we are predicting for one instance\n",
    "input_data_reshaped = input_data_as_numpy_array.reshape(1,-1)\n",
    "\n",
    "prediction = loaded_model.predict(input_data_reshaped)\n",
    "print(prediction)\n",
    "\n",
    "if (prediction[0] == 0):\n",
    "  print('The person is not diabetic')\n",
    "else:\n",
    "  print('The person is diabetic')\n",
    "     "
   ]
  },
  {
   "cell_type": "code",
   "execution_count": 42,
   "id": "278ecab3-1cd3-44ef-83be-b18a648bca93",
   "metadata": {},
   "outputs": [
    {
     "name": "stdout",
     "output_type": "stream",
     "text": [
      "Pregnancies\n",
      "Glucose\n",
      "BloodPressure\n",
      "SkinThickness\n",
      "Insulin\n",
      "BMI\n",
      "DiabetesPedigreeFunction\n",
      "Age\n"
     ]
    }
   ],
   "source": [
    "for column in x.columns:\n",
    "  print(column)"
   ]
  },
  {
   "cell_type": "code",
   "execution_count": 43,
   "id": "7557fa3c-855b-4e5a-b10d-f9a5e328ef2c",
   "metadata": {},
   "outputs": [
    {
     "name": "stdout",
     "output_type": "stream",
     "text": [
      "True\n"
     ]
    }
   ],
   "source": [
    "import os\n",
    "print(os.path.exists('Diabetes_model.sav'))  # Output: True or False\n"
   ]
  },
  {
   "cell_type": "code",
   "execution_count": 44,
   "id": "bc40989c-6051-43b6-8df6-24573c0dab91",
   "metadata": {},
   "outputs": [
    {
     "name": "stdout",
     "output_type": "stream",
     "text": [
      "C:\\Users\\TTBSADMIN\\HEALTHCARE\n"
     ]
    }
   ],
   "source": [
    "import os\n",
    "print(os.getcwd())  # Shows where your script is running\n"
   ]
  },
  {
   "cell_type": "code",
   "execution_count": null,
   "id": "9dc55d39-c8d6-4474-8fdd-0199f34745ec",
   "metadata": {},
   "outputs": [],
   "source": []
  },
  {
   "cell_type": "code",
   "execution_count": null,
   "id": "7d96c70e-e9cd-46a2-ab67-fabcf95328f6",
   "metadata": {},
   "outputs": [],
   "source": []
  }
 ],
 "metadata": {
  "kernelspec": {
   "display_name": "Python 3 (ipykernel)",
   "language": "python",
   "name": "python3"
  },
  "language_info": {
   "codemirror_mode": {
    "name": "ipython",
    "version": 3
   },
   "file_extension": ".py",
   "mimetype": "text/x-python",
   "name": "python",
   "nbconvert_exporter": "python",
   "pygments_lexer": "ipython3",
   "version": "3.12.7"
  }
 },
 "nbformat": 4,
 "nbformat_minor": 5
}
